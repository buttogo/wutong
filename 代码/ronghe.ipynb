{
 "cells": [
  {
   "cell_type": "code",
   "execution_count": 1,
   "metadata": {},
   "outputs": [],
   "source": [
    "import numpy as np\n",
    "import pandas as pd\n",
    "oof_lgb = pd.read_csv('oof_lgb_1.csv')\n",
    "oof_cat = pd.read_csv('oof_cat.csv')\n",
    "\n",
    "sub_df = oof_cat[['user_id']].copy()\n",
    "sub_df['label'] = 0.8*oof_cat['oof_cat'] + 0.2*oof_lgb['oof_lgb']\n",
    "sub_df['label'] = sub_df['label'].apply(lambda x: 1 if x > 0.24 else 0)\n",
    "sub_df.to_csv('sub_ronghe_1.csv', index=False)"
   ]
  },
  {
   "cell_type": "code",
   "execution_count": null,
   "metadata": {},
   "outputs": [],
   "source": []
  }
 ],
 "metadata": {
  "kernelspec": {
   "display_name": "Python 3",
   "language": "python",
   "name": "python3"
  },
  "language_info": {
   "codemirror_mode": {
    "name": "ipython",
    "version": 3
   },
   "file_extension": ".py",
   "mimetype": "text/x-python",
   "name": "python",
   "nbconvert_exporter": "python",
   "pygments_lexer": "ipython3",
   "version": "3.8.5"
  }
 },
 "nbformat": 4,
 "nbformat_minor": 4
}
